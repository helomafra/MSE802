{
 "cells": [
  {
   "cell_type": "code",
   "execution_count": 6,
   "id": "151dc7e9-1912-4417-8b1e-6011b4106f55",
   "metadata": {},
   "outputs": [
    {
     "name": "stdout",
     "output_type": "stream",
     "text": [
      "OPENQASM 2.0;\n",
      "include \"qelib1.inc\";\n",
      "qreg q[2];\n",
      "creg c[2];\n",
      "h q[0];\n",
      "cx q[0],q[1];\n",
      "measure q[0] -> c[0];\n",
      "measure q[1] -> c[1];\n"
     ]
    }
   ],
   "source": [
    "import qiskit.qasm2\n",
    "from qiskit.circuit import QuantumCircuit\n",
    " \n",
    "qc = QuantumCircuit(2, 2)\n",
    "qc.h(0)\n",
    "qc.cx(0, 1)\n",
    "qc.measure([0, 1], [0, 1])\n",
    "# dumps generates the QASM code for the circuit\n",
    "print(qiskit.qasm2.dumps(qc))\n",
    "\n",
    "# remember to eliminate imports before running on Quokka \n",
    "# send as a json file to the Quokka API"
   ]
  },
  {
   "cell_type": "code",
   "execution_count": 7,
   "id": "79f5087c-2010-4508-9578-7bd422fb9660",
   "metadata": {},
   "outputs": [],
   "source": [
    "qiskit.qasm2.dump(qc, \"myfile.qasm\")"
   ]
  },
  {
   "cell_type": "code",
   "execution_count": 8,
   "id": "dee10d2d-d570-40aa-9199-2d077a969090",
   "metadata": {},
   "outputs": [
    {
     "name": "stdout",
     "output_type": "stream",
     "text": [
      "     ┌───┐     ┌─┐   \n",
      "q_0: ┤ H ├──■──┤M├───\n",
      "     └───┘┌─┴─┐└╥┘┌─┐\n",
      "q_1: ─────┤ X ├─╫─┤M├\n",
      "          └───┘ ║ └╥┘\n",
      "c: 2/═══════════╩══╩═\n",
      "                0  1 \n"
     ]
    }
   ],
   "source": [
    "import qiskit.qasm2\n",
    "circuit = qiskit.qasm2.load(\"myfile.qasm\")\n",
    "print(circuit)"
   ]
  },
  {
   "cell_type": "code",
   "execution_count": 9,
   "id": "021f45f4-851e-4a6e-b64d-ff5203690d08",
   "metadata": {},
   "outputs": [],
   "source": [
    "# the usual imports\n",
    "import qiskit\n",
    "import qiskit.qasm2\n",
    "import numpy as np\n",
    "import requests\n",
    "import os\n",
    "import json\n",
    "#from google.colab import files\n",
    "\n",
    "# current Quokka address:\n",
    "# req_str_qasm = 'http://quokka2.quokkacomputing.com/qsim/qasm'\n",
    "req_str_qasm = 'http://quokka1.quokkacomputing.com/qsim/qasm'"
   ]
  },
  {
   "cell_type": "code",
   "execution_count": 10,
   "id": "2b0d649f-2c70-4cdd-be66-e985d2448b3c",
   "metadata": {},
   "outputs": [
    {
     "name": "stdout",
     "output_type": "stream",
     "text": [
      "OPENQASM 2.0;\n",
      "qreg q[2];\n",
      "creg c[2];\n",
      "h q[0];\n",
      "cx q[0],q[1];\n",
      "measure q[0] -> c[0];\n",
      "measure q[1] -> c[1];\n"
     ]
    }
   ],
   "source": [
    "code = qiskit.qasm2.dumps(circuit)\n",
    "\n",
    "# by default, qiskit includes a library of gates not installed on the Quokka\n",
    "# this code removes that\n",
    "code = code[:14] + code[(14 + 22):]\n",
    "\n",
    "print(code)"
   ]
  },
  {
   "cell_type": "code",
   "execution_count": 11,
   "id": "af9c0cf1-8077-4f03-afd2-03a5e9c8d241",
   "metadata": {},
   "outputs": [],
   "source": [
    "# Generate a QASM string representation of the circuit\n",
    "#code = qiskit.qasm2.dumps(circuit)\n",
    "\n",
    "# By default, Qiskit includes a library of gates not installed on Quokka.\n",
    "# The following line removes the 'include \"qelib1.inc\";' line from the QASM string.\n",
    "# This is done by taking the first 14 characters (up to and including the first newline after 'OPENQASM 2.0;')\n",
    "# and then concatenating everything after the next 22 characters (which is the length of 'include \"qelib1.inc\";\\n').\n",
    "#code = code[:14] + code[(14 + 22):]"
   ]
  },
  {
   "cell_type": "code",
   "execution_count": 12,
   "id": "ba05a7e8-2cce-4792-ac3a-444cf86f8a55",
   "metadata": {},
   "outputs": [
    {
     "name": "stdout",
     "output_type": "stream",
     "text": [
      "{'error': 'no error', 'error_code': 0, 'result': {'c': [[1, 1], [0, 0], [1, 1], [1, 1], [1, 1], [0, 0], [0, 0], [0, 0], [0, 0], [0, 0]]}}\n"
     ]
    }
   ],
   "source": [
    "data = {\n",
    "    'script': code,\n",
    "    'count': 10\n",
    "}\n",
    "fy=False\n",
    "result = requests.post(req_str_qasm, json=data)\n",
    "json_obj = json.loads(result.content)\n",
    "\n",
    "print(json_obj)"
   ]
  },
  {
   "cell_type": "code",
   "execution_count": 13,
   "id": "f646ff36-0522-4fde-8d47-88103b7e2733",
   "metadata": {},
   "outputs": [
    {
     "name": "stdout",
     "output_type": "stream",
     "text": [
      "[np.int64(1), np.int64(1), np.int64(0), np.int64(0), np.int64(1), np.int64(1), np.int64(1), np.int64(1), np.int64(1), np.int64(1), np.int64(0), np.int64(0), np.int64(0), np.int64(0), np.int64(0), np.int64(0), np.int64(0), np.int64(0), np.int64(0), np.int64(0)]\n"
     ]
    }
   ],
   "source": [
    "bits = list(np.concatenate(list(json_obj['result'].values())).flat)\n",
    "\n",
    "print(bits)"
   ]
  },
  {
   "cell_type": "code",
   "execution_count": 14,
   "id": "fba8f78a-81ef-4e52-b439-d90f457d5f23",
   "metadata": {},
   "outputs": [
    {
     "name": "stdout",
     "output_type": "stream",
     "text": [
      "Collecting randtest\n",
      "  Downloading randtest-0.7.tar.gz (4.8 kB)\n",
      "  Preparing metadata (setup.py) ... \u001b[?25ldone\n",
      "\u001b[?25hRequirement already satisfied: numpy in /opt/anaconda3/lib/python3.13/site-packages (from randtest) (2.1.3)\n",
      "Building wheels for collected packages: randtest\n",
      "\u001b[33m  DEPRECATION: Building 'randtest' using the legacy setup.py bdist_wheel mechanism, which will be removed in a future version. pip 25.3 will enforce this behaviour change. A possible replacement is to use the standardized build interface by setting the `--use-pep517` option, (possibly combined with `--no-build-isolation`), or adding a `pyproject.toml` file to the source tree of 'randtest'. Discussion can be found at https://github.com/pypa/pip/issues/6334\u001b[0m\u001b[33m\n",
      "\u001b[0m  Building wheel for randtest (setup.py) ... \u001b[?25ldone\n",
      "\u001b[?25h  Created wheel for randtest: filename=randtest-0.7-py3-none-any.whl size=2916 sha256=20d7de57a2c520abd0f335945e3462dad6458503275894d967d3a80fd1b70164\n",
      "  Stored in directory: /Users/heloisamafra/Library/Caches/pip/wheels/5f/3f/1f/5036f4d83d31c5aa51759f25b02886414f67eb523a3c3f125d\n",
      "Successfully built randtest\n",
      "Installing collected packages: randtest\n",
      "Successfully installed randtest-0.7\n"
     ]
    },
    {
     "data": {
      "text/plain": [
       "np.True_"
      ]
     },
     "execution_count": 14,
     "metadata": {},
     "output_type": "execute_result"
    }
   ],
   "source": [
    "# !pip install randtest\n",
    "import randtest\n",
    "\n",
    "randtest.random_score(bits)"
   ]
  }
 ],
 "metadata": {
  "kernelspec": {
   "display_name": "base",
   "language": "python",
   "name": "python3"
  },
  "language_info": {
   "codemirror_mode": {
    "name": "ipython",
    "version": 3
   },
   "file_extension": ".py",
   "mimetype": "text/x-python",
   "name": "python",
   "nbconvert_exporter": "python",
   "pygments_lexer": "ipython3",
   "version": "3.13.5"
  }
 },
 "nbformat": 4,
 "nbformat_minor": 5
}
