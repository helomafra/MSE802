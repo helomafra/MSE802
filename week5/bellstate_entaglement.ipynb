{
 "cells": [
  {
   "cell_type": "code",
   "execution_count": 1,
   "id": "0a3e2e9b-b606-4b68-b137-d30ad5570ce9",
   "metadata": {},
   "outputs": [
    {
     "name": "stderr",
     "output_type": "stream",
     "text": [
      "/var/folders/zw/3y19j4693yn8mt_7zlb22q6h0000gn/T/ipykernel_58302/3158838284.py:4: DeprecationWarning: Using Qiskit with Python 3.9 is deprecated as of the 2.1.0 release. Support for running Qiskit with Python 3.9 will be removed in the 2.3.0 release, which coincides with when Python 3.9 goes end of life.\n",
      "  from qiskit import QuantumCircuit, ClassicalRegister, QuantumRegister\n"
     ]
    },
    {
     "name": "stdout",
     "output_type": "stream",
     "text": [
      "{'00': 48, '11': 52}\n",
      "      ┌───┐     ┌─┐   \n",
      "q0_0: ┤ H ├──■──┤M├───\n",
      "      └───┘┌─┴─┐└╥┘┌─┐\n",
      "q0_1: ─────┤ X ├─╫─┤M├\n",
      "           └───┘ ║ └╥┘\n",
      "c0: 2/═══════════╩══╩═\n",
      "                 0  1 \n"
     ]
    },
    {
     "data": {
      "image/png": "[encoded data removed]",
      "text/plain": [
       "<Figure size 640x480 with 1 Axes>"
      ]
     },
     "execution_count": 1,
     "metadata": {},
     "output_type": "execute_result"
    }
   ],
   "source": [
    "import numpy as np\n",
    "\n",
    "# Import Qiskit\n",
    "from qiskit import QuantumCircuit, ClassicalRegister, QuantumRegister\n",
    "from qiskit import QuantumCircuit, transpile\n",
    "from qiskit_aer import AerSimulator\n",
    "from qiskit.visualization import plot_histogram, plot_state_city\n",
    "import qiskit.quantum_info as qi\n",
    "from qiskit.quantum_info import Statevector\n",
    "from qiskit.visualization import plot_bloch_multivector\n",
    "from qiskit.quantum_info import DensityMatrix\n",
    "from qiskit.visualization import plot_state_city\n",
    "from qiskit.visualization import plot_state_qsphere\n",
    "\n",
    "simulator = AerSimulator()\n",
    "\n",
    "# Create a quantum register with 4 qubits\n",
    "qr = QuantumRegister(2)\n",
    "\n",
    "# Create a classical register with 4 bits\n",
    "cr = ClassicalRegister(2)\n",
    "\n",
    "# Create a quantum circuit\n",
    "circ = QuantumCircuit(qr, cr)\n",
    "\n",
    "# Create circuit\n",
    "circ.h(qr[0])\n",
    "circ.cx(qr[0], qr[1])\n",
    "\n",
    "#circ.measure_all()\n",
    "circ.measure(qr, cr)\n",
    "simulator = AerSimulator()\n",
    "# Simulate the circuit\n",
    "job = simulator.run(circ, shots=100)\n",
    "\n",
    "# Get the result\n",
    "result = job.result()\n",
    "\n",
    "# Print the counts\n",
    "print(result.get_counts(circ))\n",
    "\n",
    "# Visualize the circuit\n",
    "print(circ)\n",
    "\n",
    "# Visualize the measurement outcomes\n",
    "plot_histogram(result.get_counts(circ))\n"
   ]
  },
  {
   "cell_type": "code",
   "execution_count": null,
   "id": "65b639a6-08b9-4dd8-aaf7-caf5ae1cc386",
   "metadata": {},
   "outputs": [],
   "source": []
  }
 ],
 "metadata": {
  "kernelspec": {
   "display_name": "complex_calc",
   "language": "python",
   "name": "python3"
  },
  "language_info": {
   "codemirror_mode": {
    "name": "ipython",
    "version": 3
   },
   "file_extension": ".py",
   "mimetype": "text/x-python",
   "name": "python",
   "nbconvert_exporter": "python",
   "pygments_lexer": "ipython3",
   "version": "3.9.23"
  }
 },
 "nbformat": 4,
 "nbformat_minor": 5
}
