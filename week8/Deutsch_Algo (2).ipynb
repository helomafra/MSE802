{
 "cells": [
  {
   "cell_type": "code",
   "execution_count": 1,
   "id": "73fce463-0a0b-4f56-99d3-0f7779c00655",
   "metadata": {},
   "outputs": [
    {
     "name": "stdout",
     "output_type": "stream",
     "text": [
      "Circuit:\n",
      "      ┌       ┐\n",
      "      │0 1 0 0│\n",
      "0: ───│1 0 0 0│───\n",
      "      │0 0 1 0│\n",
      "      │0 0 0 1│\n",
      "      └       ┘\n",
      "      │\n",
      "1: ───#2──────────\n",
      "\n",
      "Final state vector:\n",
      "[0.+0.j 1.+0.j 0.+0.j 0.+0.j]\n"
     ]
    }
   ],
   "source": [
    "import cirq\n",
    "import numpy as np\n",
    "\n",
    "# Define the unitary matrix\n",
    "matrix = np.array([\n",
    "    [0, 1, 0, 0],\n",
    "    [1, 0, 0, 0],\n",
    "    [0, 0, 1, 0],\n",
    "    [0, 0, 0, 1]\n",
    "])\n",
    "\n",
    "# Create the MatrixGate from the unitary matrix\n",
    "matrix_gate = cirq.MatrixGate(matrix)\n",
    "\n",
    "# Create the qubits\n",
    "qubits = cirq.LineQubit.range(2)\n",
    "\n",
    "# Create the circuit\n",
    "circuit = cirq.Circuit()\n",
    "\n",
    "# Apply the MatrixGate to the qubits\n",
    "circuit.append(matrix_gate.on(*qubits))\n",
    "\n",
    "# Simulate the circuit\n",
    "simulator = cirq.Simulator()\n",
    "\n",
    "# Run the simulation and print the results\n",
    "print(\"Circuit:\")\n",
    "print(circuit)\n",
    "\n",
    "result = simulator.simulate(circuit)\n",
    "print(\"\\nFinal state vector:\")\n",
    "print(result.final_state_vector)\n"
   ]
  },
  {
   "cell_type": "code",
   "execution_count": 2,
   "id": "5c46f0d1-2501-4861-afe5-0402a3a975b5",
   "metadata": {},
   "outputs": [
    {
     "name": "stdout",
     "output_type": "stream",
     "text": [
      "Enter the 16 comma-separated values for the 4x4 unitary matrix:\n"
     ]
    },
    {
     "ename": "ValueError",
     "evalue": "could not convert string to float: ''",
     "output_type": "error",
     "traceback": [
      "\u001b[0;31m---------------------------------------------------------------------------\u001b[0m",
      "\u001b[0;31mValueError\u001b[0m                                Traceback (most recent call last)",
      "Cell \u001b[0;32mIn[2], line 43\u001b[0m\n\u001b[1;32m     40\u001b[0m     \u001b[38;5;28;01mreturn\u001b[39;00m circuit\n\u001b[1;32m     42\u001b[0m \u001b[38;5;66;03m# Prompt the user to input the 4x4 unitary matrix\u001b[39;00m\n\u001b[0;32m---> 43\u001b[0m oracle_matrix \u001b[38;5;241m=\u001b[39m \u001b[43minput_unitary_matrix\u001b[49m\u001b[43m(\u001b[49m\u001b[43m)\u001b[49m\n\u001b[1;32m     45\u001b[0m \u001b[38;5;66;03m# Create the oracle gate from the user-defined unitary matrix\u001b[39;00m\n\u001b[1;32m     46\u001b[0m oracle_gate \u001b[38;5;241m=\u001b[39m create_oracle_gate(oracle_matrix)\n",
      "Cell \u001b[0;32mIn[2], line 13\u001b[0m, in \u001b[0;36minput_unitary_matrix\u001b[0;34m()\u001b[0m\n\u001b[1;32m     11\u001b[0m \u001b[38;5;28mprint\u001b[39m(\u001b[38;5;124m\"\u001b[39m\u001b[38;5;124mEnter the 16 comma-separated values for the 4x4 unitary matrix:\u001b[39m\u001b[38;5;124m\"\u001b[39m)\n\u001b[1;32m     12\u001b[0m matrix_values \u001b[38;5;241m=\u001b[39m \u001b[38;5;28minput\u001b[39m()\u001b[38;5;241m.\u001b[39mstrip()\u001b[38;5;241m.\u001b[39msplit(\u001b[38;5;124m'\u001b[39m\u001b[38;5;124m,\u001b[39m\u001b[38;5;124m'\u001b[39m)\n\u001b[0;32m---> 13\u001b[0m oracle_matrix \u001b[38;5;241m=\u001b[39m np\u001b[38;5;241m.\u001b[39marray([[\u001b[38;5;28mfloat\u001b[39m(matrix_values[i]) \u001b[38;5;28;01mfor\u001b[39;00m i \u001b[38;5;129;01min\u001b[39;00m \u001b[38;5;28mrange\u001b[39m(\u001b[38;5;241m4\u001b[39m)],\n\u001b[1;32m     14\u001b[0m                           [\u001b[38;5;28mfloat\u001b[39m(matrix_values[i]) \u001b[38;5;28;01mfor\u001b[39;00m i \u001b[38;5;129;01min\u001b[39;00m \u001b[38;5;28mrange\u001b[39m(\u001b[38;5;241m4\u001b[39m, \u001b[38;5;241m8\u001b[39m)],\n\u001b[1;32m     15\u001b[0m                           [\u001b[38;5;28mfloat\u001b[39m(matrix_values[i]) \u001b[38;5;28;01mfor\u001b[39;00m i \u001b[38;5;129;01min\u001b[39;00m \u001b[38;5;28mrange\u001b[39m(\u001b[38;5;241m8\u001b[39m, \u001b[38;5;241m12\u001b[39m)],\n\u001b[1;32m     16\u001b[0m                           [\u001b[38;5;28mfloat\u001b[39m(matrix_values[i]) \u001b[38;5;28;01mfor\u001b[39;00m i \u001b[38;5;129;01min\u001b[39;00m \u001b[38;5;28mrange\u001b[39m(\u001b[38;5;241m12\u001b[39m, \u001b[38;5;241m16\u001b[39m)]])\n\u001b[1;32m     17\u001b[0m \u001b[38;5;28;01mreturn\u001b[39;00m oracle_matrix\n",
      "Cell \u001b[0;32mIn[2], line 13\u001b[0m, in \u001b[0;36m<listcomp>\u001b[0;34m(.0)\u001b[0m\n\u001b[1;32m     11\u001b[0m \u001b[38;5;28mprint\u001b[39m(\u001b[38;5;124m\"\u001b[39m\u001b[38;5;124mEnter the 16 comma-separated values for the 4x4 unitary matrix:\u001b[39m\u001b[38;5;124m\"\u001b[39m)\n\u001b[1;32m     12\u001b[0m matrix_values \u001b[38;5;241m=\u001b[39m \u001b[38;5;28minput\u001b[39m()\u001b[38;5;241m.\u001b[39mstrip()\u001b[38;5;241m.\u001b[39msplit(\u001b[38;5;124m'\u001b[39m\u001b[38;5;124m,\u001b[39m\u001b[38;5;124m'\u001b[39m)\n\u001b[0;32m---> 13\u001b[0m oracle_matrix \u001b[38;5;241m=\u001b[39m np\u001b[38;5;241m.\u001b[39marray([[\u001b[38;5;28;43mfloat\u001b[39;49m\u001b[43m(\u001b[49m\u001b[43mmatrix_values\u001b[49m\u001b[43m[\u001b[49m\u001b[43mi\u001b[49m\u001b[43m]\u001b[49m\u001b[43m)\u001b[49m \u001b[38;5;28;01mfor\u001b[39;00m i \u001b[38;5;129;01min\u001b[39;00m \u001b[38;5;28mrange\u001b[39m(\u001b[38;5;241m4\u001b[39m)],\n\u001b[1;32m     14\u001b[0m                           [\u001b[38;5;28mfloat\u001b[39m(matrix_values[i]) \u001b[38;5;28;01mfor\u001b[39;00m i \u001b[38;5;129;01min\u001b[39;00m \u001b[38;5;28mrange\u001b[39m(\u001b[38;5;241m4\u001b[39m, \u001b[38;5;241m8\u001b[39m)],\n\u001b[1;32m     15\u001b[0m                           [\u001b[38;5;28mfloat\u001b[39m(matrix_values[i]) \u001b[38;5;28;01mfor\u001b[39;00m i \u001b[38;5;129;01min\u001b[39;00m \u001b[38;5;28mrange\u001b[39m(\u001b[38;5;241m8\u001b[39m, \u001b[38;5;241m12\u001b[39m)],\n\u001b[1;32m     16\u001b[0m                           [\u001b[38;5;28mfloat\u001b[39m(matrix_values[i]) \u001b[38;5;28;01mfor\u001b[39;00m i \u001b[38;5;129;01min\u001b[39;00m \u001b[38;5;28mrange\u001b[39m(\u001b[38;5;241m12\u001b[39m, \u001b[38;5;241m16\u001b[39m)]])\n\u001b[1;32m     17\u001b[0m \u001b[38;5;28;01mreturn\u001b[39;00m oracle_matrix\n",
      "\u001b[0;31mValueError\u001b[0m: could not convert string to float: ''"
     ]
    }
   ],
   "source": [
    "import cirq\n",
    "import numpy as np\n",
    "\n",
    "# Function to create an oracle gate from a given unitary matrix\n",
    "def create_oracle_gate(oracle_matrix):\n",
    "    return cirq.MatrixGate(oracle_matrix)\n",
    "\n",
    "# Function to prompt the user to input a 4x4 unitary matrix\n",
    "# TO-DO: Improve to ask only for two entries (0, 1) and which maps to which\n",
    "def input_unitary_matrix():\n",
    "    print(\"Enter the 16 comma-separated values for the 4x4 unitary matrix:\")\n",
    "    matrix_values = input().strip().split(',')\n",
    "    oracle_matrix = np.array([[float(matrix_values[i]) for i in range(4)],\n",
    "                              [float(matrix_values[i]) for i in range(4, 8)],\n",
    "                              [float(matrix_values[i]) for i in range(8, 12)],\n",
    "                              [float(matrix_values[i]) for i in range(12, 16)]])\n",
    "    return oracle_matrix\n",
    "\n",
    "# Define Deutsch's algorithm\n",
    "def deutsch_algorithm(oracle_gate):\n",
    "    # Define qubits\n",
    "    qubits = cirq.LineQubit.range(2)\n",
    "\n",
    "    # Create a quantum circuit\n",
    "    circuit = cirq.Circuit()\n",
    "\n",
    "    # Apply Hadamard gate to both qubits to create superposition\n",
    "    circuit.append(cirq.X(qubits[1]))\n",
    "    circuit.append([cirq.H(q) for q in qubits])\n",
    "\n",
    "    # Apply the oracle gate\n",
    "    circuit.append(oracle_gate(*qubits[:2]))\n",
    "\n",
    "    # Apply Hadamard gate to the first qubit only\n",
    "    circuit.append(cirq.H(qubits[0]))\n",
    "\n",
    "    # Measure the first qubit\n",
    "    circuit.append(cirq.measure(qubits[0], key='result'))\n",
    "\n",
    "    return circuit\n",
    "\n",
    "# Prompt the user to input the 4x4 unitary matrix\n",
    "oracle_matrix = input_unitary_matrix()\n",
    "\n",
    "# Create the oracle gate from the user-defined unitary matrix\n",
    "oracle_gate = create_oracle_gate(oracle_matrix)\n",
    "\n",
    "# Run Deutsch's algorithm with the user-defined oracle gate\n",
    "circuit = deutsch_algorithm(oracle_gate)\n",
    "\n",
    "simulator = cirq.Simulator()\n",
    "measurement_outcomes = []\n",
    "\n",
    "for _ in range(10):\n",
    "    result = simulator.run(circuit)\n",
    "    measurement_outcome = result.measurements['result'][0][0]\n",
    "    measurement_outcomes.append(measurement_outcome)\n",
    "\n",
    "# Print all measurement outcomes\n",
    "print(\"Measurement outcomes:\", measurement_outcomes)\n",
    "\n",
    "# Determine the type of function based on the measurement outcomes\n",
    "function_type = \"constant\" if all(outcome == 0 for outcome in measurement_outcomes) else \"balanced\"\n",
    "print(\"Function type:\", function_type)\n",
    "\n",
    "# Print the circuit\n",
    "print(\"\\nCircuit:\")\n",
    "print(circuit)\n"
   ]
  },
  {
   "cell_type": "code",
   "execution_count": null,
   "id": "d8399267-60f7-4447-88d3-55b3fe53bb4b",
   "metadata": {},
   "outputs": [],
   "source": []
  }
 ],
 "metadata": {
  "kernelspec": {
   "display_name": "Python 3",
   "language": "python",
   "name": "python3"
  },
  "language_info": {
   "codemirror_mode": {
    "name": "ipython",
    "version": 3
   },
   "file_extension": ".py",
   "mimetype": "text/x-python",
   "name": "python",
   "nbconvert_exporter": "python",
   "pygments_lexer": "ipython3",
   "version": "3.9.23"
  }
 },
 "nbformat": 4,
 "nbformat_minor": 5
}
